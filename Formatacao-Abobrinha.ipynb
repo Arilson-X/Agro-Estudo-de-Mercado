{
 "cells": [
  {
   "cell_type": "code",
   "execution_count": null,
   "id": "40141670",
   "metadata": {},
   "outputs": [],
   "source": [
    "with open(\"Relatorio CSV\\Relatorio Abobrinha 2006-2020.csv\",\"r\") as arquivo:\n",
    "    cotacao_abobrinha = arquivo.read()\n",
    "cotacao_abobrinha = cotacao_abobrinha.replace('/',';20')#separar os meses e anos em colunas diferentes\n",
    "cotacao_abobrinha = cotacao_abobrinha.replace(',','.')#usar o ponto(.) como separador para casas decimais\n",
    "#cotacao_abobrinha = cotacao_abobrinha.replace('Ceasa;','Ceasa;Estado;Cidade;')#Adicionar mais duas colunas\n",
    "cotacao_abobrinha = cotacao_abobrinha.replace('CEAGESP - ','CEAGESP;SP;')#Formatar dados conforme as duas colunas para SP\n",
    "cotacao_abobrinha = cotacao_abobrinha.replace('CEASA-AC - ','CEASA;AC;')#Formatar dados conforme as duas colunas para AC\n",
    "cotacao_abobrinha = cotacao_abobrinha.replace('CEASA-AL - ','CEASA;AL;')#Formatar dados conforme as duas colunas para AL\n",
    "cotacao_abobrinha = cotacao_abobrinha.replace('CEASA-BA - ','CEASA;BA;')#Formatar dados conforme as duas colunas para BA\n",
    "cotacao_abobrinha = cotacao_abobrinha.replace('CEASA-CE - ','CEASA;CE;')#Formatar dados conforme as duas colunas para CE\n",
    "cotacao_abobrinha = cotacao_abobrinha.replace('CEASA-DF - ','CEASA;DF;')#Formatar dados conforme as duas colunas para DF\n",
    "cotacao_abobrinha = cotacao_abobrinha.replace('CEASA-ES - ','CEASA;ES;')#Formatar dados conforme as duas colunas para ES\n",
    "cotacao_abobrinha = cotacao_abobrinha.replace('CEASA-GO - ','CEASA;GO;')#Formatar dados conforme as duas colunas para GO\n",
    "cotacao_abobrinha = cotacao_abobrinha.replace('CEASA-MA- ','CEASA;MA;')#Formatar dados conforme as duas colunas para MA\n",
    "cotacao_abobrinha = cotacao_abobrinha.replace('CEASA-MG ','CEASA;MG;')#Formatar dados conforme as duas colunas para MG\n",
    "cotacao_abobrinha = cotacao_abobrinha.replace('CEASA-MS - ','CEASA;MS;')#Formatar dados conforme as duas colunas para MS\n",
    "cotacao_abobrinha = cotacao_abobrinha.replace('CEASA-MT - ','CEASA;MT;')#Formatar dados conforme as duas colunas para MT\n",
    "cotacao_abobrinha = cotacao_abobrinha.replace('CEASA-PA - ','CEASA;PA;')#Formatar dados conforme as duas colunas para PA\n",
    "cotacao_abobrinha = cotacao_abobrinha.replace('CEASA-PB - ','CEASA;PB;')#Formatar dados conforme as duas colunas para PB\n",
    "cotacao_abobrinha = cotacao_abobrinha.replace('CEASA-PE - ','CEASA;PE;')#Formatar dados conforme as duas colunas para PE\n",
    "cotacao_abobrinha = cotacao_abobrinha.replace('CEASA-PI - ','CEASA;PI;')#Formatar dados conforme as duas colunas para PI\n",
    "cotacao_abobrinha = cotacao_abobrinha.replace('CEASA-PR - ','CEASA;PR;')#Formatar dados conforme as duas colunas para PR\n",
    "cotacao_abobrinha = cotacao_abobrinha.replace('CEASA-RJ - ','CEASA;RJ;')#Formatar dados conforme as duas colunas para RJ\n",
    "cotacao_abobrinha = cotacao_abobrinha.replace('CEASA-RN - ','CEASA;RN;')#Formatar dados conforme as duas colunas para RN\n",
    "cotacao_abobrinha = cotacao_abobrinha.replace('CEASA-RO - ','CEASA;RO;')#Formatar dados conforme as duas colunas para RO\n",
    "cotacao_abobrinha = cotacao_abobrinha.replace('CEASA-RS - ','CEASA;RS;')#Formatar dados conforme as duas colunas para RS\n",
    "cotacao_abobrinha = cotacao_abobrinha.replace('CEASA-SC - ','CEASA;SC;')#Formatar dados conforme as duas colunas para SC\n",
    "cotacao_abobrinha = cotacao_abobrinha.replace('CEASA-SE - ','CEASA;SE;')#Formatar dados conforme as duas colunas para SE\n",
    "cotacao_abobrinha = cotacao_abobrinha.replace('CEASA-SP - ','CEASA;SP;')#Formatar dados conforme as duas colunas para SP\n",
    "cotacao_abobrinha = cotacao_abobrinha.replace('CEASA-TO - ','CEASA;TO;')#Formatar dados conforme as duas colunas para TO\n",
    "cotacao_abobrinha = cotacao_abobrinha.replace('- ','')#Formatar dados conforme as duas colunas para TO\n",
    "cotacao_abobrinha = cotacao_abobrinha.replace('-','')#Formatar dados conforme as duas colunas para TO\n",
    "with open(\"Relatorio CSV\\Relatorio Abobrinha 2006-2020.csv\",\"w\") as arquivo:\n",
    "    arquivo.write(cotacao_abobrinha)"
   ]
  }
 ],
 "metadata": {
  "kernelspec": {
   "display_name": "Python 3 (ipykernel)",
   "language": "python",
   "name": "python3"
  },
  "language_info": {
   "codemirror_mode": {
    "name": "ipython",
    "version": 3
   },
   "file_extension": ".py",
   "mimetype": "text/x-python",
   "name": "python",
   "nbconvert_exporter": "python",
   "pygments_lexer": "ipython3",
   "version": "3.9.7"
  }
 },
 "nbformat": 4,
 "nbformat_minor": 5
}
