{
 "cells": [
  {
   "cell_type": "markdown",
   "id": "21bf8bdf",
   "metadata": {},
   "source": [
    "## Formatação Abobrinha"
   ]
  },
  {
   "cell_type": "code",
   "execution_count": 4,
   "id": "ed4a5927",
   "metadata": {},
   "outputs": [
    {
     "name": "stdout",
     "output_type": "stream",
     "text": [
      "Collecting plotly\n",
      "  Downloading plotly-5.6.0-py2.py3-none-any.whl (27.7 MB)\n",
      "Collecting tenacity>=6.2.0\n",
      "  Downloading tenacity-8.0.1-py3-none-any.whl (24 kB)\n",
      "Requirement already satisfied: six in c:\\users\\arilson\\anaconda3\\lib\\site-packages (from plotly) (1.16.0)\n",
      "Installing collected packages: tenacity, plotly\n",
      "Successfully installed plotly-5.6.0 tenacity-8.0.1\n"
     ]
    }
   ],
   "source": [
    "!pip install plotly"
   ]
  },
  {
   "cell_type": "code",
   "execution_count": 5,
   "id": "f4b23f04",
   "metadata": {},
   "outputs": [],
   "source": [
    "import pandas as pd\n",
    "import numpy as np\n",
    "import plotly.express as px"
   ]
  },
  {
   "cell_type": "code",
   "execution_count": 44,
   "id": "c95adf59",
   "metadata": {},
   "outputs": [],
   "source": [
    "with open(\"Relatorio CSV\\Relatorio Abobrinha 2006-2020.csv\",\"r\") as arquivo:\n",
    "    cotacao_abobrinha = arquivo.read()\n",
    "cotacao_abobrinha = cotacao_abobrinha.replace('/',';20')#separar os meses e anos em colunas diferentes\n",
    "cotacao_abobrinha = cotacao_abobrinha.replace(',','.')#usar o ponto(.) como separador para casas decimais\n",
    "#cotacao_abobrinha = cotacao_abobrinha.replace('Ceasa;','Ceasa;Estado;Cidade;')#Adicionar mais duas colunas\n",
    "cotacao_abobrinha = cotacao_abobrinha.replace('CEAGESP - ','CEAGESP;SP;')#Formatar dados conforme as duas colunas para SP\n",
    "cotacao_abobrinha = cotacao_abobrinha.replace('CEASA-AC - ','CEASA;AC;')#Formatar dados conforme as duas colunas para AC\n",
    "cotacao_abobrinha = cotacao_abobrinha.replace('CEASA-AL - ','CEASA;AL;')#Formatar dados conforme as duas colunas para AL\n",
    "cotacao_abobrinha = cotacao_abobrinha.replace('CEASA-BA - ','CEASA;BA;')#Formatar dados conforme as duas colunas para BA\n",
    "cotacao_abobrinha = cotacao_abobrinha.replace('CEASA-CE - ','CEASA;CE;')#Formatar dados conforme as duas colunas para CE\n",
    "cotacao_abobrinha = cotacao_abobrinha.replace('CEASA-DF - ','CEASA;DF;')#Formatar dados conforme as duas colunas para DF\n",
    "cotacao_abobrinha = cotacao_abobrinha.replace('CEASA-ES - ','CEASA;ES;')#Formatar dados conforme as duas colunas para ES\n",
    "cotacao_abobrinha = cotacao_abobrinha.replace('CEASA-GO - ','CEASA;GO;')#Formatar dados conforme as duas colunas para GO\n",
    "cotacao_abobrinha = cotacao_abobrinha.replace('CEASA-MA- ','CEASA;MA;')#Formatar dados conforme as duas colunas para MA\n",
    "cotacao_abobrinha = cotacao_abobrinha.replace('CEASA-MG ','CEASA;MG;')#Formatar dados conforme as duas colunas para MG\n",
    "cotacao_abobrinha = cotacao_abobrinha.replace('CEASA-MS - ','CEASA;MS;')#Formatar dados conforme as duas colunas para MS\n",
    "cotacao_abobrinha = cotacao_abobrinha.replace('CEASA-MT - ','CEASA;MT;')#Formatar dados conforme as duas colunas para MT\n",
    "cotacao_abobrinha = cotacao_abobrinha.replace('CEASA-PA - ','CEASA;PA;')#Formatar dados conforme as duas colunas para PA\n",
    "cotacao_abobrinha = cotacao_abobrinha.replace('CEASA-PB - ','CEASA;PB;')#Formatar dados conforme as duas colunas para PB\n",
    "cotacao_abobrinha = cotacao_abobrinha.replace('CEASA-PE - ','CEASA;PE;')#Formatar dados conforme as duas colunas para PE\n",
    "cotacao_abobrinha = cotacao_abobrinha.replace('CEASA-PI - ','CEASA;PI;')#Formatar dados conforme as duas colunas para PI\n",
    "cotacao_abobrinha = cotacao_abobrinha.replace('CEASA-PR - ','CEASA;PR;')#Formatar dados conforme as duas colunas para PR\n",
    "cotacao_abobrinha = cotacao_abobrinha.replace('CEASA-RJ - ','CEASA;RJ;')#Formatar dados conforme as duas colunas para RJ\n",
    "cotacao_abobrinha = cotacao_abobrinha.replace('CEASA-RN - ','CEASA;RN;')#Formatar dados conforme as duas colunas para RN\n",
    "cotacao_abobrinha = cotacao_abobrinha.replace('CEASA-RO - ','CEASA;RO;')#Formatar dados conforme as duas colunas para RO\n",
    "cotacao_abobrinha = cotacao_abobrinha.replace('CEASA-RS - ','CEASA;RS;')#Formatar dados conforme as duas colunas para RS\n",
    "cotacao_abobrinha = cotacao_abobrinha.replace('CEASA-SC - ','CEASA;SC;')#Formatar dados conforme as duas colunas para SC\n",
    "cotacao_abobrinha = cotacao_abobrinha.replace('CEASA-SE - ','CEASA;SE;')#Formatar dados conforme as duas colunas para SE\n",
    "cotacao_abobrinha = cotacao_abobrinha.replace('CEASA-SP - ','CEASA;SP;')#Formatar dados conforme as duas colunas para SP\n",
    "cotacao_abobrinha = cotacao_abobrinha.replace('CEASA-TO - ','CEASA;TO;')#Formatar dados conforme as duas colunas para TO\n",
    "cotacao_abobrinha = cotacao_abobrinha.replace('- ','')#Formatar dados conforme as duas colunas para TO\n",
    "cotacao_abobrinha = cotacao_abobrinha.replace('-','')#Formatar dados conforme as duas colunas para TO\n",
    "with open(\"Relatorio CSV\\Relatorio Abobrinha 2006-2020.csv\",\"w\") as arquivo:\n",
    "    arquivo.write(cotacao_abobrinha)"
   ]
  },
  {
   "cell_type": "markdown",
   "id": "022e80e9",
   "metadata": {},
   "source": [
    "## Tratamento dos Dados"
   ]
  },
  {
   "cell_type": "code",
   "execution_count": 71,
   "id": "9f0033bb",
   "metadata": {
    "scrolled": true
   },
   "outputs": [
    {
     "name": "stdout",
     "output_type": "stream",
     "text": [
      "['Aracaju' 'Araraquara' 'Araçatuba' 'Barbacena' 'Bauru' 'Belém' 'Brasília'\n",
      " 'Campina Grande ( EMPASA )' 'Campinas' 'Campo Grande' 'Caratinga'\n",
      " 'Cariri' 'Caruaru' 'Cascavel' 'Caxias do Sul' 'Cuiabá' 'Curitiba'\n",
      " 'Florianópolis' 'Fortaleza' 'Foz do Iguaçu' 'Franca' 'Goiânia'\n",
      " 'Governador Valadares' 'Grande BH' 'Ibiapaba' 'Jiparana'\n",
      " 'João Pessoa ( EMPASA )' 'Juazeiro ( Mercado do Produtor )'\n",
      " 'Juiz de Fora' 'Londrina' 'Maceio ( IDERAL)' 'Maringá' 'Marília' 'Natal'\n",
      " 'Palmas' 'Patos ( EMPASA )' 'Paulo Afonso' 'Piracicaba' 'Porto Alegre'\n",
      " 'Presidente Prudente' 'Recife' 'Ribeirão Preto' 'Rio Branco'\n",
      " 'Rio de Janeiro' 'Salvador ( EBAL )' 'Santo André (CRAISA)' 'Sorocaba'\n",
      " 'São José do Rio Preto' 'São José dos Campos'\n",
      " 'São Luiz (COOP.DOS HORTIGRANJEIROS DO MA)' 'São Paulo' 'Teresina'\n",
      " 'Tianguá' 'Uberaba' 'Uberlândia' 'Vitória']\n"
     ]
    }
   ],
   "source": [
    "df_abobrinha = pd.read_csv('Relatorio CSV\\Relatorio Abobrinha 2006-2020.csv', delimiter=';',encoding='UTF-8')#ISO-8859-1\n",
    "#display(df_abobrinha)\n",
    "df_abobrinha['Media dos preços Mensal'] = pd.to_numeric(df_abobrinha['Media dos preços Mensal'], errors = 'coerce')\n",
    "df_abobrinha['Ano'] = pd.to_numeric(df_abobrinha['Ano'], errors = 'coerce')\n",
    "ceasas = np.unique(df_abobrinha['Ceasa'])\n",
    "estados = np.unique(df_abobrinha['Estado'])\n",
    "cidades = np.unique(df_abobrinha['Cidade'])\n",
    "ano = np.unique(df_abobrinha['Ano'])\n",
    "print(cidades)"
   ]
  }
 ],
 "metadata": {
  "kernelspec": {
   "display_name": "Python 3 (ipykernel)",
   "language": "python",
   "name": "python3"
  },
  "language_info": {
   "codemirror_mode": {
    "name": "ipython",
    "version": 3
   },
   "file_extension": ".py",
   "mimetype": "text/x-python",
   "name": "python",
   "nbconvert_exporter": "python",
   "pygments_lexer": "ipython3",
   "version": "3.9.7"
  }
 },
 "nbformat": 4,
 "nbformat_minor": 5
}
